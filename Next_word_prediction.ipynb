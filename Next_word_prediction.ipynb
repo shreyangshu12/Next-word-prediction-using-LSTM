{
  "nbformat": 4,
  "nbformat_minor": 0,
  "metadata": {
    "colab": {
      "name": "Next word prediction",
      "provenance": [],
      "collapsed_sections": [],
      "mount_file_id": "1cYXAG_z-F1quHhQytKXlARn6XdcR1LNJ",
      "authorship_tag": "ABX9TyNMjsfI/TwKfY4fEMw+0p++",
      "include_colab_link": true
    },
    "kernelspec": {
      "name": "python3",
      "display_name": "Python 3"
    },
    "language_info": {
      "name": "python"
    },
    "gpuClass": "standard",
    "accelerator": "GPU"
  },
  "cells": [
    {
      "cell_type": "markdown",
      "metadata": {
        "id": "view-in-github",
        "colab_type": "text"
      },
      "source": [
        "<a href=\"https://colab.research.google.com/github/shreyangshu12/Next-word-prediction-using-LSTM/blob/main/Next_word_prediction.ipynb\" target=\"_parent\"><img src=\"https://colab.research.google.com/assets/colab-badge.svg\" alt=\"Open In Colab\"/></a>"
      ]
    },
    {
      "cell_type": "code",
      "source": [
        "import numpy as np\n",
        "import heapq\n",
        "from nltk.tokenize import RegexpTokenizer\n",
        "from keras.models import Sequential, load_model\n",
        "from keras.layers.core import Dense, Activation\n",
        "from keras.layers import *\n",
        "import pickle\n",
        "from tensorflow.keras.optimizers import RMSprop\n",
        "import re\n",
        "import keras\n",
        "from sklearn.model_selection import train_test_split\n",
        "import tensorflow as tf"
      ],
      "metadata": {
        "id": "zhJmFNq_d3DM"
      },
      "execution_count": null,
      "outputs": []
    },
    {
      "cell_type": "code",
      "source": [
        "#open text file in read mode\n",
        "path = \"1661-0.txt\"\n",
        "#read whole file to a string\n",
        "data = open(path).read().lower()\n",
        "data = re.sub(r'[^\\w\\s]', '', data)\n",
        "data = re.sub(\" \\d+\", \" \", data)\n",
        " \n",
        "#print(data)"
      ],
      "metadata": {
        "id": "RicT7jUiQ3nM"
      },
      "execution_count": null,
      "outputs": []
    },
    {
      "cell_type": "code",
      "source": [
        "tokenizer = RegexpTokenizer(r'\\w+|$[0-9]+|\\S+')\n",
        "words = tokenizer.tokenize(data)\n",
        "unique_words = np.unique(words)\n",
        "unique_word_index = dict((c, i) for i, c in enumerate(unique_words))"
      ],
      "metadata": {
        "id": "hC5jZZ35Q3jG"
      },
      "execution_count": null,
      "outputs": []
    },
    {
      "cell_type": "code",
      "source": [
        "len(words)"
      ],
      "metadata": {
        "colab": {
          "base_uri": "https://localhost:8080/"
        },
        "id": "f_njDluNDr_Y",
        "outputId": "f3220fb6-ba9c-42e8-90f2-0b42a773b661"
      },
      "execution_count": null,
      "outputs": [
        {
          "output_type": "execute_result",
          "data": {
            "text/plain": [
              "107435"
            ]
          },
          "metadata": {},
          "execution_count": 4
        }
      ]
    },
    {
      "cell_type": "code",
      "source": [
        "LENGTH_WORD = 5\n",
        "next_words = []\n",
        "prev_words = []\n",
        "for j in range(len(words) - LENGTH_WORD):\n",
        "  prev_words.append(words[j:j + LENGTH_WORD])\n",
        "  next_words.append(words[j + LENGTH_WORD])\n",
        "print(prev_words[0])\n",
        "print(next_words[0])"
      ],
      "metadata": {
        "colab": {
          "base_uri": "https://localhost:8080/"
        },
        "id": "Uo-4QleOem--",
        "outputId": "2832347e-e823-4963-8c57-be49b8aa441a"
      },
      "execution_count": null,
      "outputs": [
        {
          "output_type": "stream",
          "name": "stdout",
          "text": [
            "['project', 'gutenbergs', 'the', 'adventures', 'of']\n",
            "sherlock\n"
          ]
        }
      ]
    },
    {
      "cell_type": "code",
      "source": [
        "arr = np.zeros((len(prev_words), LENGTH_WORD), dtype=int)\n",
        "for i in range(len(prev_words)):\n",
        "  for j in range(5):\n",
        "    arr[i][j] = unique_word_index[prev_words[i][j]]"
      ],
      "metadata": {
        "id": "kL_X-X49rTNB"
      },
      "execution_count": null,
      "outputs": []
    },
    {
      "cell_type": "code",
      "source": [
        "Y = np.zeros((len(next_words), len(unique_words)), dtype=bool)\n",
        "for i, each_words in enumerate(prev_words):\n",
        "   for j, each_word in enumerate(each_words):\n",
        "    Y[i, unique_word_index[next_words[i]]] = 1"
      ],
      "metadata": {
        "id": "BWFAq5TDh4ed"
      },
      "execution_count": null,
      "outputs": []
    },
    {
      "cell_type": "code",
      "source": [
        "X_train, X_test, y_train, y_test = train_test_split(arr, Y, test_size=0.05, random_state=42)"
      ],
      "metadata": {
        "id": "DNVy9cqr6Jkz"
      },
      "execution_count": null,
      "outputs": []
    },
    {
      "cell_type": "code",
      "source": [
        "inputs=Input(shape=(5,))\n",
        "\n",
        "embedding=Embedding(input_dim=len(unique_words),\n",
        "             output_dim=300,\n",
        "             input_length=5,\n",
        "             embeddings_regularizer=keras.regularizers.l2(.001))(inputs)\n",
        "\n",
        "bilstm_0 = Bidirectional(CuDNNLSTM(units=128, return_sequences=True))(embedding)\n",
        "\n",
        "bilstm_1 = Bidirectional(CuDNNLSTM(units=128, return_sequences=False))(bilstm_0)\n",
        "\n",
        "\n",
        "output=Dense(len(unique_words),activation='softmax')(bilstm_1) \n",
        "\n",
        "model=keras.Model(inputs,output)"
      ],
      "metadata": {
        "id": "AdvhcItVtb3E"
      },
      "execution_count": null,
      "outputs": []
    },
    {
      "cell_type": "code",
      "source": [
        "model.summary()"
      ],
      "metadata": {
        "colab": {
          "base_uri": "https://localhost:8080/"
        },
        "id": "lTlj686Mtsg7",
        "outputId": "ba278b71-4048-46f3-9459-80fc2274ee89"
      },
      "execution_count": null,
      "outputs": [
        {
          "output_type": "stream",
          "name": "stdout",
          "text": [
            "Model: \"model\"\n",
            "_________________________________________________________________\n",
            " Layer (type)                Output Shape              Param #   \n",
            "=================================================================\n",
            " input_1 (InputLayer)        [(None, 5)]               0         \n",
            "                                                                 \n",
            " embedding (Embedding)       (None, 5, 300)            2599200   \n",
            "                                                                 \n",
            " bidirectional (Bidirectiona  (None, 5, 256)           440320    \n",
            " l)                                                              \n",
            "                                                                 \n",
            " bidirectional_1 (Bidirectio  (None, 256)              395264    \n",
            " nal)                                                            \n",
            "                                                                 \n",
            " dense (Dense)               (None, 8664)              2226648   \n",
            "                                                                 \n",
            "=================================================================\n",
            "Total params: 5,661,432\n",
            "Trainable params: 5,661,432\n",
            "Non-trainable params: 0\n",
            "_________________________________________________________________\n"
          ]
        }
      ]
    },
    {
      "cell_type": "code",
      "source": [
        "model.compile(loss='categorical_crossentropy', optimizer='Adam', metrics=['accuracy'])\n",
        "\n",
        "checkpoint_filepath = '/content/drive/MyDrive/Next_word_prediction_weights.h5'\n",
        "\n",
        "model_checkpoint_callback = tf.keras.callbacks.ModelCheckpoint(\n",
        "    filepath=checkpoint_filepath,\n",
        "    save_weights_only=True,\n",
        "    monitor='val_accuracy',\n",
        "    mode='max',\n",
        "    save_best_only=True)\n",
        "\n",
        "early_stopping = keras.callbacks.EarlyStopping(monitor='val_accuracy', \n",
        "                                               mode='auto', \n",
        "                                               patience=3, \n",
        "                                               verbose=1)\n",
        "history = model.fit(X_train, y_train, \n",
        "                    validation_split=0.05, \n",
        "                    batch_size=128, \n",
        "                    epochs=50, \n",
        "                    shuffle=True,\n",
        "                    callbacks=[early_stopping,model_checkpoint_callback])"
      ],
      "metadata": {
        "colab": {
          "base_uri": "https://localhost:8080/"
        },
        "id": "psA1LN6CiQTM",
        "outputId": "e0bd524d-46da-44fc-93a6-f25411a6d9c2"
      },
      "execution_count": null,
      "outputs": [
        {
          "output_type": "stream",
          "name": "stdout",
          "text": [
            "Epoch 1/50\n",
            "758/758 [==============================] - 17s 12ms/step - loss: 6.6273 - accuracy: 0.0617 - val_loss: 6.3238 - val_accuracy: 0.0766\n",
            "Epoch 2/50\n",
            "758/758 [==============================] - 8s 11ms/step - loss: 5.9992 - accuracy: 0.0928 - val_loss: 6.0472 - val_accuracy: 0.1068\n",
            "Epoch 3/50\n",
            "758/758 [==============================] - 8s 11ms/step - loss: 5.7340 - accuracy: 0.1134 - val_loss: 5.9883 - val_accuracy: 0.1219\n",
            "Epoch 4/50\n",
            "758/758 [==============================] - 9s 11ms/step - loss: 5.5580 - accuracy: 0.1232 - val_loss: 5.9391 - val_accuracy: 0.1274\n",
            "Epoch 5/50\n",
            "758/758 [==============================] - 8s 11ms/step - loss: 5.4114 - accuracy: 0.1297 - val_loss: 5.9178 - val_accuracy: 0.1340\n",
            "Epoch 6/50\n",
            "758/758 [==============================] - 9s 11ms/step - loss: 5.2800 - accuracy: 0.1354 - val_loss: 5.9352 - val_accuracy: 0.1368\n",
            "Epoch 7/50\n",
            "758/758 [==============================] - 8s 11ms/step - loss: 5.1572 - accuracy: 0.1403 - val_loss: 5.9223 - val_accuracy: 0.1403\n",
            "Epoch 8/50\n",
            "758/758 [==============================] - 8s 11ms/step - loss: 5.0365 - accuracy: 0.1459 - val_loss: 5.9773 - val_accuracy: 0.1346\n",
            "Epoch 9/50\n",
            "758/758 [==============================] - 9s 11ms/step - loss: 4.9076 - accuracy: 0.1507 - val_loss: 5.9892 - val_accuracy: 0.1423\n",
            "Epoch 10/50\n",
            "758/758 [==============================] - 8s 11ms/step - loss: 4.7768 - accuracy: 0.1555 - val_loss: 6.0571 - val_accuracy: 0.1372\n",
            "Epoch 11/50\n",
            "758/758 [==============================] - 9s 11ms/step - loss: 4.6367 - accuracy: 0.1625 - val_loss: 6.1049 - val_accuracy: 0.1383\n",
            "Epoch 12/50\n",
            "758/758 [==============================] - 8s 11ms/step - loss: 4.4979 - accuracy: 0.1681 - val_loss: 6.1725 - val_accuracy: 0.1409\n",
            "Epoch 12: early stopping\n"
          ]
        }
      ]
    },
    {
      "cell_type": "code",
      "source": [
        "model.evaluate(X_test, y_test)"
      ],
      "metadata": {
        "colab": {
          "base_uri": "https://localhost:8080/"
        },
        "id": "MLWSi9Js6huz",
        "outputId": "d930cbb6-a197-4151-d142-400293fc0bd8"
      },
      "execution_count": null,
      "outputs": [
        {
          "output_type": "stream",
          "name": "stdout",
          "text": [
            "168/168 [==============================] - 1s 6ms/step - loss: 6.1221 - accuracy: 0.1340\n"
          ]
        },
        {
          "output_type": "execute_result",
          "data": {
            "text/plain": [
              "[6.122071743011475, 0.13402830064296722]"
            ]
          },
          "metadata": {},
          "execution_count": 12
        }
      ]
    },
    {
      "cell_type": "code",
      "source": [
        "def prepare_input(text, SEQUENCE_LENGTH=5):\n",
        "  x = np.zeros((1, SEQUENCE_LENGTH))\n",
        "  text = text.lower()\n",
        "  text = re.sub(r'[^\\w\\s]', '', text)\n",
        "  text = re.sub(\" \\d+\", \" \", text)    \n",
        "  text = text.split()\n",
        "  for i in range(5):\n",
        "    x[0][i] = unique_word_index[text[i]]\n",
        "  return x\n",
        "\n",
        "def predicted(text):\n",
        "  x = prepare_input(text)\n",
        "  list_of_keys = list(unique_word_index.keys())\n",
        "  predicted = model.predict(x)\n",
        "  print(list_of_keys[np.argmax(predicted)])"
      ],
      "metadata": {
        "id": "m8pKC8sRmsgZ"
      },
      "execution_count": null,
      "outputs": []
    },
    {
      "cell_type": "code",
      "source": [
        "predicted('there we are sitting alone')"
      ],
      "metadata": {
        "colab": {
          "base_uri": "https://localhost:8080/"
        },
        "id": "5ljv5wPjyBd5",
        "outputId": "d144e988-3097-4e3c-ede4-29cdb1be9ec8"
      },
      "execution_count": null,
      "outputs": [
        {
          "output_type": "stream",
          "name": "stdout",
          "text": [
            "in\n"
          ]
        }
      ]
    }
  ]
}